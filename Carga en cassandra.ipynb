{
 "cells": [
  {
   "cell_type": "code",
   "execution_count": null,
   "metadata": {},
   "outputs": [],
   "source": [
    "#!pip install cassandra-driver\n",
    "#version python 3.7"
   ]
  },
  {
   "cell_type": "code",
   "execution_count": null,
   "metadata": {},
   "outputs": [],
   "source": [
    "#Conexión a la cassandra que corre en mi docker\n",
    "from cassandra.cluster import Cluster\n",
    "\n",
    "#cluster = Cluster(contact_points=['192.168.99.100'],port=9042)\n",
    "cluster = Cluster(contact_points=['localhost:9091'],port=9042)\n",
    "session=cluster.connect()"
   ]
  },
  {
   "cell_type": "code",
   "execution_count": null,
   "metadata": {},
   "outputs": [],
   "source": [
    "#Una visión general del fichero que quiero insertar en cassandra\n",
    "import pandas as pd\n",
    "import numpy as np\n",
    "\n",
    "crimen=pd.read_csv('./crime_rate_Spain.csv',sep=',',header=0)\n",
    "crimen.head()"
   ]
  },
  {
   "cell_type": "code",
   "execution_count": null,
   "metadata": {},
   "outputs": [],
   "source": [
    "crimen.columns"
   ]
  },
  {
   "cell_type": "code",
   "execution_count": null,
   "metadata": {},
   "outputs": [],
   "source": [
    "crimen.dtypes"
   ]
  },
  {
   "cell_type": "code",
   "execution_count": null,
   "metadata": {},
   "outputs": [],
   "source": [
    "#Creo el keyspace y la tabla\n",
    "\n",
    "session.execute(\n",
    "    \"\"\"CREATE KEYSPACE IF NOT EXISTS PROYECTO WITH replication = {\n",
    "        'class':'simpleStrategy',\n",
    "        'replication_factor':1 }; \"\"\"\n",
    ")"
   ]
  },
  {
   "cell_type": "code",
   "execution_count": null,
   "metadata": {},
   "outputs": [],
   "source": [
    "session.set_keyspace(\"proyecto\")"
   ]
  },
  {
   "cell_type": "code",
   "execution_count": null,
   "metadata": {},
   "outputs": [],
   "source": [
    "from cassandra.cqlengine import columns\n",
    "from cassandra.cqlengine.models import Model\n",
    "from cassandra.cqlengine import models\n",
    "from cassandra.cqlengine import connection\n",
    "\n",
    "class Crimen(Model):\n",
    "    Location = columns.Text(primary_key=True)\n",
    "    year = columns.Integer(primary_key=True)\n",
    "    crime = columns.Text()\n",
    "    total_cases = columns.Integer()"
   ]
  },
  {
   "cell_type": "code",
   "execution_count": null,
   "metadata": {},
   "outputs": [],
   "source": [
    "connection.register_connection('cluster', session=session)\n",
    "from cassandra.cqlengine.management import sync_table\n",
    "sync_table(Crimen,keyspaces=['proyecto'],connections=['cluster'])"
   ]
  },
  {
   "cell_type": "code",
   "execution_count": null,
   "metadata": {},
   "outputs": [],
   "source": [
    "for row in session.execute(\"\"\"select column_name, kind, type from system_schema.columns WHERE keyspace_name = 'proyecto' ;\"\"\"):\n",
    "    print(row)"
   ]
  },
  {
   "cell_type": "code",
   "execution_count": null,
   "metadata": {},
   "outputs": [],
   "source": [
    "#Inserto los datos en mi tabla creada\n",
    "\n",
    "\n",
    "for index, valeu in crimen.interrows():\n",
    "    session.execute(\"\"\"INSERT INTO proyecto.crimen(Location,year,crime,total_cases))\n",
    "    VALUES(%s,%s,%s,%s)\"\"\",\n",
    "    (value['Location'], value['year'], value['crime'], value['total_cases']))"
   ]
  },
  {
   "cell_type": "code",
   "execution_count": null,
   "metadata": {},
   "outputs": [],
   "source": [
    "#consulta en formato JSON:\n",
    "\n",
    "all_rows=session.execute(\"\"\"SELECT * FROM proyecto.crimen\"\"\")\n",
    "\n",
    "for row in all_rows[:5]:\n",
    "    print(row)"
   ]
  },
  {
   "cell_type": "code",
   "execution_count": null,
   "metadata": {},
   "outputs": [],
   "source": [
    "#consulta en formato datframe:\n",
    "df=pd.DataFrame()\n",
    "for row in all_rows[:5]:\n",
    "    df=df.append(row,ignore_index=True)"
   ]
  },
  {
   "cell_type": "code",
   "execution_count": null,
   "metadata": {},
   "outputs": [],
   "source": [
    "df.head()"
   ]
  }
 ],
 "metadata": {
  "kernelspec": {
   "display_name": "rstudio",
   "language": "python",
   "name": "python3"
  },
  "language_info": {
   "codemirror_mode": {
    "name": "ipython",
    "version": 3
   },
   "file_extension": ".py",
   "mimetype": "text/x-python",
   "name": "python",
   "nbconvert_exporter": "python",
   "pygments_lexer": "ipython3",
   "version": "3.7.1 (default, Oct 28 2018, 08:39:03) [MSC v.1912 64 bit (AMD64)]"
  },
  "orig_nbformat": 4,
  "vscode": {
   "interpreter": {
    "hash": "75aee527f0ebaca35ae24a45406fac1d8e9e3ae6e8bd4c7e4a363e1db1fe510c"
   }
  }
 },
 "nbformat": 4,
 "nbformat_minor": 2
}
